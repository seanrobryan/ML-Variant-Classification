{
 "cells": [
  {
   "cell_type": "code",
   "execution_count": 1,
   "metadata": {},
   "outputs": [],
   "source": [
    "import os\n",
    "import pandas as pd\n",
    "import numpy as np\n",
    "from importlib import reload\n",
    "import src.utils as utils\n",
    "import glob"
   ]
  },
  {
   "cell_type": "code",
   "execution_count": 2,
   "metadata": {},
   "outputs": [],
   "source": [
    "chroms_names = ['MT', 'X'] + [str(x) for x in range(1,23)]\n",
    "\n",
    "GENOMIC_DESCRIPTION_COL = 'Genomic Description (GRCh37)'"
   ]
  },
  {
   "cell_type": "code",
   "execution_count": 3,
   "metadata": {},
   "outputs": [
    {
     "name": "stdout",
     "output_type": "stream",
     "text": [
      "X\n",
      "1\n",
      "2\n",
      "3\n",
      "4\n",
      "5\n",
      "6\n",
      "7\n",
      "8\n",
      "9\n",
      "10\n",
      "11\n",
      "12\n",
      "13\n",
      "14\n",
      "15\n",
      "16\n",
      "17\n",
      "18\n",
      "19\n",
      "20\n",
      "21\n",
      "22\n"
     ]
    }
   ],
   "source": [
    "chromosome_dir = 'split_vcf_chromosomes_csvs'\n",
    "\n",
    "dfs = []\n",
    "\n",
    "for c in chroms_names[1:]:\n",
    "    print(c)\n",
    "    df = pd.read_csv(os.path.join(chromosome_dir, f'chromosome_{c}_records.csv'), index_col=0, low_memory=False)\n",
    "    df = df.map(utils.safe_decode).set_index('Genomic Description GRCh37')\n",
    "    dfs.append(df.loc[:, ['FINAL_PATHOGENICITY', 'FINAL_PRED', 'CURATED_PATHOGENICITY', 'TOTAL_NUM_PREDS', 'NUM_PATH_PREDS']])\n"
   ]
  },
  {
   "cell_type": "code",
   "execution_count": 4,
   "metadata": {},
   "outputs": [
    {
     "data": {
      "text/html": [
       "<div>\n",
       "<style scoped>\n",
       "    .dataframe tbody tr th:only-of-type {\n",
       "        vertical-align: middle;\n",
       "    }\n",
       "\n",
       "    .dataframe tbody tr th {\n",
       "        vertical-align: top;\n",
       "    }\n",
       "\n",
       "    .dataframe thead th {\n",
       "        text-align: right;\n",
       "    }\n",
       "</style>\n",
       "<table border=\"1\" class=\"dataframe\">\n",
       "  <thead>\n",
       "    <tr style=\"text-align: right;\">\n",
       "      <th></th>\n",
       "      <th>FINAL_PATHOGENICITY</th>\n",
       "      <th>FINAL_PRED</th>\n",
       "      <th>CURATED_PATHOGENICITY</th>\n",
       "      <th>TOTAL_NUM_PREDS</th>\n",
       "      <th>NUM_PATH_PREDS</th>\n",
       "    </tr>\n",
       "    <tr>\n",
       "      <th>Genomic Description GRCh37</th>\n",
       "      <th></th>\n",
       "      <th></th>\n",
       "      <th></th>\n",
       "      <th></th>\n",
       "      <th></th>\n",
       "    </tr>\n",
       "  </thead>\n",
       "  <tbody>\n",
       "    <tr>\n",
       "      <th>X:9431334:T&gt;C</th>\n",
       "      <td>Unknown significance</td>\n",
       "      <td>NaN</td>\n",
       "      <td>NaN</td>\n",
       "      <td>NaN</td>\n",
       "      <td>NaN</td>\n",
       "    </tr>\n",
       "    <tr>\n",
       "      <th>X:9431341:T&gt;C</th>\n",
       "      <td>Unknown significance</td>\n",
       "      <td>NaN</td>\n",
       "      <td>NaN</td>\n",
       "      <td>NaN</td>\n",
       "      <td>NaN</td>\n",
       "    </tr>\n",
       "    <tr>\n",
       "      <th>X:9431342:G&gt;GT</th>\n",
       "      <td>Unknown significance</td>\n",
       "      <td>NaN</td>\n",
       "      <td>NaN</td>\n",
       "      <td>NaN</td>\n",
       "      <td>NaN</td>\n",
       "    </tr>\n",
       "    <tr>\n",
       "      <th>X:9431375:G&gt;A</th>\n",
       "      <td>Unknown significance</td>\n",
       "      <td>NaN</td>\n",
       "      <td>NaN</td>\n",
       "      <td>NaN</td>\n",
       "      <td>NaN</td>\n",
       "    </tr>\n",
       "    <tr>\n",
       "      <th>X:9431417:A&gt;G</th>\n",
       "      <td>Unknown significance</td>\n",
       "      <td>NaN</td>\n",
       "      <td>NaN</td>\n",
       "      <td>NaN</td>\n",
       "      <td>NaN</td>\n",
       "    </tr>\n",
       "  </tbody>\n",
       "</table>\n",
       "</div>"
      ],
      "text/plain": [
       "                             FINAL_PATHOGENICITY FINAL_PRED  \\\n",
       "Genomic Description GRCh37                                    \n",
       "X:9431334:T>C               Unknown significance        NaN   \n",
       "X:9431341:T>C               Unknown significance        NaN   \n",
       "X:9431342:G>GT              Unknown significance        NaN   \n",
       "X:9431375:G>A               Unknown significance        NaN   \n",
       "X:9431417:A>G               Unknown significance        NaN   \n",
       "\n",
       "                           CURATED_PATHOGENICITY  TOTAL_NUM_PREDS  \\\n",
       "Genomic Description GRCh37                                          \n",
       "X:9431334:T>C                                NaN              NaN   \n",
       "X:9431341:T>C                                NaN              NaN   \n",
       "X:9431342:G>GT                               NaN              NaN   \n",
       "X:9431375:G>A                                NaN              NaN   \n",
       "X:9431417:A>G                                NaN              NaN   \n",
       "\n",
       "                            NUM_PATH_PREDS  \n",
       "Genomic Description GRCh37                  \n",
       "X:9431334:T>C                          NaN  \n",
       "X:9431341:T>C                          NaN  \n",
       "X:9431342:G>GT                         NaN  \n",
       "X:9431375:G>A                          NaN  \n",
       "X:9431417:A>G                          NaN  "
      ]
     },
     "execution_count": 4,
     "metadata": {},
     "output_type": "execute_result"
    }
   ],
   "source": [
    "df = pd.concat(dfs)\n",
    "df.head()"
   ]
  },
  {
   "cell_type": "code",
   "execution_count": 5,
   "metadata": {},
   "outputs": [
    {
     "data": {
      "text/html": [
       "<div>\n",
       "<style scoped>\n",
       "    .dataframe tbody tr th:only-of-type {\n",
       "        vertical-align: middle;\n",
       "    }\n",
       "\n",
       "    .dataframe tbody tr th {\n",
       "        vertical-align: top;\n",
       "    }\n",
       "\n",
       "    .dataframe thead th {\n",
       "        text-align: right;\n",
       "    }\n",
       "</style>\n",
       "<table border=\"1\" class=\"dataframe\">\n",
       "  <thead>\n",
       "    <tr style=\"text-align: right;\">\n",
       "      <th></th>\n",
       "      <th>FINAL_PATHOGENICITY</th>\n",
       "      <th>FINAL_PRED</th>\n",
       "      <th>CURATED_PATHOGENICITY</th>\n",
       "      <th>TOTAL_NUM_PREDS</th>\n",
       "      <th>NUM_PATH_PREDS</th>\n",
       "      <th>PREDICTION_RATIO</th>\n",
       "      <th>INTERNAL_STATE</th>\n",
       "    </tr>\n",
       "    <tr>\n",
       "      <th>Genomic Description GRCh37</th>\n",
       "      <th></th>\n",
       "      <th></th>\n",
       "      <th></th>\n",
       "      <th></th>\n",
       "      <th></th>\n",
       "      <th></th>\n",
       "      <th></th>\n",
       "    </tr>\n",
       "  </thead>\n",
       "  <tbody>\n",
       "    <tr>\n",
       "      <th>X:9431334:T&gt;C</th>\n",
       "      <td>Unknown significance</td>\n",
       "      <td>NaN</td>\n",
       "      <td>NaN</td>\n",
       "      <td>NaN</td>\n",
       "      <td>NaN</td>\n",
       "      <td>NaN</td>\n",
       "      <td>VUS</td>\n",
       "    </tr>\n",
       "    <tr>\n",
       "      <th>X:9431341:T&gt;C</th>\n",
       "      <td>Unknown significance</td>\n",
       "      <td>NaN</td>\n",
       "      <td>NaN</td>\n",
       "      <td>NaN</td>\n",
       "      <td>NaN</td>\n",
       "      <td>NaN</td>\n",
       "      <td>VUS</td>\n",
       "    </tr>\n",
       "    <tr>\n",
       "      <th>X:9431342:G&gt;GT</th>\n",
       "      <td>Unknown significance</td>\n",
       "      <td>NaN</td>\n",
       "      <td>NaN</td>\n",
       "      <td>NaN</td>\n",
       "      <td>NaN</td>\n",
       "      <td>NaN</td>\n",
       "      <td>VUS</td>\n",
       "    </tr>\n",
       "    <tr>\n",
       "      <th>X:9431375:G&gt;A</th>\n",
       "      <td>Unknown significance</td>\n",
       "      <td>NaN</td>\n",
       "      <td>NaN</td>\n",
       "      <td>NaN</td>\n",
       "      <td>NaN</td>\n",
       "      <td>NaN</td>\n",
       "      <td>VUS</td>\n",
       "    </tr>\n",
       "    <tr>\n",
       "      <th>X:9431417:A&gt;G</th>\n",
       "      <td>Unknown significance</td>\n",
       "      <td>NaN</td>\n",
       "      <td>NaN</td>\n",
       "      <td>NaN</td>\n",
       "      <td>NaN</td>\n",
       "      <td>NaN</td>\n",
       "      <td>VUS</td>\n",
       "    </tr>\n",
       "  </tbody>\n",
       "</table>\n",
       "</div>"
      ],
      "text/plain": [
       "                             FINAL_PATHOGENICITY FINAL_PRED  \\\n",
       "Genomic Description GRCh37                                    \n",
       "X:9431334:T>C               Unknown significance        NaN   \n",
       "X:9431341:T>C               Unknown significance        NaN   \n",
       "X:9431342:G>GT              Unknown significance        NaN   \n",
       "X:9431375:G>A               Unknown significance        NaN   \n",
       "X:9431417:A>G               Unknown significance        NaN   \n",
       "\n",
       "                           CURATED_PATHOGENICITY  TOTAL_NUM_PREDS  \\\n",
       "Genomic Description GRCh37                                          \n",
       "X:9431334:T>C                                NaN              NaN   \n",
       "X:9431341:T>C                                NaN              NaN   \n",
       "X:9431342:G>GT                               NaN              NaN   \n",
       "X:9431375:G>A                                NaN              NaN   \n",
       "X:9431417:A>G                                NaN              NaN   \n",
       "\n",
       "                            NUM_PATH_PREDS  PREDICTION_RATIO INTERNAL_STATE  \n",
       "Genomic Description GRCh37                                                   \n",
       "X:9431334:T>C                          NaN               NaN            VUS  \n",
       "X:9431341:T>C                          NaN               NaN            VUS  \n",
       "X:9431342:G>GT                         NaN               NaN            VUS  \n",
       "X:9431375:G>A                          NaN               NaN            VUS  \n",
       "X:9431417:A>G                          NaN               NaN            VUS  "
      ]
     },
     "execution_count": 5,
     "metadata": {},
     "output_type": "execute_result"
    }
   ],
   "source": [
    "df['PREDICTION_RATIO'] = df['NUM_PATH_PREDS'] / df['TOTAL_NUM_PREDS']\n",
    "df['INTERNAL_STATE'] = 'VUS'\n",
    "df.loc[df['TOTAL_NUM_PREDS'] >= 5, 'INTERNAL_STATE'] = 'D'\n",
    "df.loc[(df['TOTAL_NUM_PREDS'] >= 5) & (df['PREDICTION_RATIO'] < 0.6), 'INTERNAL_STATE'] = 'B'\n",
    "df.head()"
   ]
  },
  {
   "cell_type": "code",
   "execution_count": 6,
   "metadata": {},
   "outputs": [
    {
     "data": {
      "text/plain": [
       "FINAL_PATHOGENICITY\n",
       "Unknown significance    2404475\n",
       "Benign                   227561\n",
       "Likely benign             38817\n",
       "Pathogenic                16689\n",
       "Likely pathogenic          4727\n",
       "Benign*                      92\n",
       "Name: count, dtype: int64"
      ]
     },
     "execution_count": 6,
     "metadata": {},
     "output_type": "execute_result"
    }
   ],
   "source": [
    "df.FINAL_PATHOGENICITY.value_counts()"
   ]
  },
  {
   "cell_type": "code",
   "execution_count": 7,
   "metadata": {},
   "outputs": [
    {
     "data": {
      "text/html": [
       "<div>\n",
       "<style scoped>\n",
       "    .dataframe tbody tr th:only-of-type {\n",
       "        vertical-align: middle;\n",
       "    }\n",
       "\n",
       "    .dataframe tbody tr th {\n",
       "        vertical-align: top;\n",
       "    }\n",
       "\n",
       "    .dataframe thead th {\n",
       "        text-align: right;\n",
       "    }\n",
       "</style>\n",
       "<table border=\"1\" class=\"dataframe\">\n",
       "  <thead>\n",
       "    <tr style=\"text-align: right;\">\n",
       "      <th></th>\n",
       "      <th>FINAL_PATHOGENICITY</th>\n",
       "      <th>FINAL_PRED</th>\n",
       "      <th>CURATED_PATHOGENICITY</th>\n",
       "      <th>TOTAL_NUM_PREDS</th>\n",
       "      <th>NUM_PATH_PREDS</th>\n",
       "      <th>PREDICTION_RATIO</th>\n",
       "      <th>INTERNAL_STATE</th>\n",
       "    </tr>\n",
       "    <tr>\n",
       "      <th>Genomic Description GRCh37</th>\n",
       "      <th></th>\n",
       "      <th></th>\n",
       "      <th></th>\n",
       "      <th></th>\n",
       "      <th></th>\n",
       "      <th></th>\n",
       "      <th></th>\n",
       "    </tr>\n",
       "  </thead>\n",
       "  <tbody>\n",
       "    <tr>\n",
       "      <th>X:9431334:T&gt;C</th>\n",
       "      <td>VUS</td>\n",
       "      <td>NaN</td>\n",
       "      <td>NaN</td>\n",
       "      <td>NaN</td>\n",
       "      <td>NaN</td>\n",
       "      <td>NaN</td>\n",
       "      <td>VUS</td>\n",
       "    </tr>\n",
       "    <tr>\n",
       "      <th>X:9431341:T&gt;C</th>\n",
       "      <td>VUS</td>\n",
       "      <td>NaN</td>\n",
       "      <td>NaN</td>\n",
       "      <td>NaN</td>\n",
       "      <td>NaN</td>\n",
       "      <td>NaN</td>\n",
       "      <td>VUS</td>\n",
       "    </tr>\n",
       "    <tr>\n",
       "      <th>X:9431342:G&gt;GT</th>\n",
       "      <td>VUS</td>\n",
       "      <td>NaN</td>\n",
       "      <td>NaN</td>\n",
       "      <td>NaN</td>\n",
       "      <td>NaN</td>\n",
       "      <td>NaN</td>\n",
       "      <td>VUS</td>\n",
       "    </tr>\n",
       "    <tr>\n",
       "      <th>X:9431375:G&gt;A</th>\n",
       "      <td>VUS</td>\n",
       "      <td>NaN</td>\n",
       "      <td>NaN</td>\n",
       "      <td>NaN</td>\n",
       "      <td>NaN</td>\n",
       "      <td>NaN</td>\n",
       "      <td>VUS</td>\n",
       "    </tr>\n",
       "    <tr>\n",
       "      <th>X:9431417:A&gt;G</th>\n",
       "      <td>VUS</td>\n",
       "      <td>NaN</td>\n",
       "      <td>NaN</td>\n",
       "      <td>NaN</td>\n",
       "      <td>NaN</td>\n",
       "      <td>NaN</td>\n",
       "      <td>VUS</td>\n",
       "    </tr>\n",
       "  </tbody>\n",
       "</table>\n",
       "</div>"
      ],
      "text/plain": [
       "                           FINAL_PATHOGENICITY FINAL_PRED  \\\n",
       "Genomic Description GRCh37                                  \n",
       "X:9431334:T>C                              VUS        NaN   \n",
       "X:9431341:T>C                              VUS        NaN   \n",
       "X:9431342:G>GT                             VUS        NaN   \n",
       "X:9431375:G>A                              VUS        NaN   \n",
       "X:9431417:A>G                              VUS        NaN   \n",
       "\n",
       "                           CURATED_PATHOGENICITY  TOTAL_NUM_PREDS  \\\n",
       "Genomic Description GRCh37                                          \n",
       "X:9431334:T>C                                NaN              NaN   \n",
       "X:9431341:T>C                                NaN              NaN   \n",
       "X:9431342:G>GT                               NaN              NaN   \n",
       "X:9431375:G>A                                NaN              NaN   \n",
       "X:9431417:A>G                                NaN              NaN   \n",
       "\n",
       "                            NUM_PATH_PREDS  PREDICTION_RATIO INTERNAL_STATE  \n",
       "Genomic Description GRCh37                                                   \n",
       "X:9431334:T>C                          NaN               NaN            VUS  \n",
       "X:9431341:T>C                          NaN               NaN            VUS  \n",
       "X:9431342:G>GT                         NaN               NaN            VUS  \n",
       "X:9431375:G>A                          NaN               NaN            VUS  \n",
       "X:9431417:A>G                          NaN               NaN            VUS  "
      ]
     },
     "execution_count": 7,
     "metadata": {},
     "output_type": "execute_result"
    }
   ],
   "source": [
    "df.loc[df.FINAL_PATHOGENICITY == 'Unknown significance', 'FINAL_PATHOGENICITY'] = 'VUS'\n",
    "df.loc[df.FINAL_PATHOGENICITY == 'Pathogenic', 'FINAL_PATHOGENICITY'] = 'P'\n",
    "df.loc[df.FINAL_PATHOGENICITY == 'Likely pathogenic', 'FINAL_PATHOGENICITY'] = 'LP'\n",
    "df.loc[df.FINAL_PATHOGENICITY == 'Benign', 'FINAL_PATHOGENICITY'] = 'B'\n",
    "df.loc[df.FINAL_PATHOGENICITY == 'Benign*', 'FINAL_PATHOGENICITY'] = 'B'\n",
    "df.loc[df.FINAL_PATHOGENICITY == 'Likely benign', 'FINAL_PATHOGENICITY'] = 'LB'\n",
    "df.head()"
   ]
  },
  {
   "cell_type": "code",
   "execution_count": 8,
   "metadata": {},
   "outputs": [
    {
     "data": {
      "text/plain": [
       "FINAL_PATHOGENICITY\n",
       "VUS    2404475\n",
       "B       227653\n",
       "LB       38817\n",
       "P        16689\n",
       "LP        4727\n",
       "Name: count, dtype: int64"
      ]
     },
     "execution_count": 8,
     "metadata": {},
     "output_type": "execute_result"
    }
   ],
   "source": [
    "df.FINAL_PATHOGENICITY.value_counts()"
   ]
  },
  {
   "cell_type": "code",
   "execution_count": 9,
   "metadata": {},
   "outputs": [
    {
     "data": {
      "text/plain": [
       "INTERNAL_STATE\n",
       "VUS    2552823\n",
       "D        91470\n",
       "B        48068\n",
       "Name: count, dtype: int64"
      ]
     },
     "execution_count": 9,
     "metadata": {},
     "output_type": "execute_result"
    }
   ],
   "source": [
    "df.INTERNAL_STATE.value_counts()"
   ]
  },
  {
   "cell_type": "code",
   "execution_count": 10,
   "metadata": {},
   "outputs": [
    {
     "data": {
      "text/plain": [
       "BVP_INTERNAL_STATE\n",
       "VUS    2552823\n",
       "P        91470\n",
       "B        48068\n",
       "Name: count, dtype: int64"
      ]
     },
     "execution_count": 10,
     "metadata": {},
     "output_type": "execute_result"
    }
   ],
   "source": [
    "df['BVP_INTERNAL_STATE'] = df.INTERNAL_STATE.replace('D', 'P')\n",
    "df.BVP_INTERNAL_STATE.value_counts()"
   ]
  },
  {
   "cell_type": "code",
   "execution_count": 11,
   "metadata": {},
   "outputs": [],
   "source": [
    "from sklearn.metrics import accuracy_score, precision_recall_fscore_support, balanced_accuracy_score"
   ]
  },
  {
   "cell_type": "code",
   "execution_count": 12,
   "metadata": {},
   "outputs": [
    {
     "data": {
      "text/plain": [
       "FINAL_PATHOGENICITY\n",
       "B    227653\n",
       "P     16689\n",
       "Name: count, dtype: int64"
      ]
     },
     "execution_count": 12,
     "metadata": {},
     "output_type": "execute_result"
    }
   ],
   "source": [
    "df = df[df['FINAL_PATHOGENICITY'].isin(['B', 'P'])]\n",
    "df.FINAL_PATHOGENICITY.value_counts()"
   ]
  },
  {
   "cell_type": "code",
   "execution_count": 16,
   "metadata": {},
   "outputs": [
    {
     "data": {
      "text/plain": [
       "BVP_INTERNAL_STATE\n",
       "VUS    235848\n",
       "P        6969\n",
       "B        1525\n",
       "Name: count, dtype: int64"
      ]
     },
     "execution_count": 16,
     "metadata": {},
     "output_type": "execute_result"
    }
   ],
   "source": [
    "df.BVP_INTERNAL_STATE.value_counts()"
   ]
  },
  {
   "cell_type": "code",
   "execution_count": 19,
   "metadata": {},
   "outputs": [
    {
     "data": {
      "text/plain": [
       "FINAL_PATHOGENICITY  BVP_INTERNAL_STATE\n",
       "B                    VUS                   225795\n",
       "P                    VUS                    10053\n",
       "                     P                       6186\n",
       "B                    B                       1075\n",
       "                     P                        783\n",
       "P                    B                        450\n",
       "Name: count, dtype: int64"
      ]
     },
     "execution_count": 19,
     "metadata": {},
     "output_type": "execute_result"
    }
   ],
   "source": [
    "df[['FINAL_PATHOGENICITY', 'BVP_INTERNAL_STATE']].value_counts()"
   ]
  },
  {
   "cell_type": "code",
   "execution_count": 22,
   "metadata": {},
   "outputs": [
    {
     "name": "stdout",
     "output_type": "stream",
     "text": [
      "Azaiez accuracy: 2.97165%\n"
     ]
    },
    {
     "name": "stderr",
     "output_type": "stream",
     "text": [
      "/Users/seanryan/Documents/GitHub/MORL-DVD-SVM/.venv311/lib/python3.11/site-packages/sklearn/metrics/_classification.py:2446: UserWarning: y_pred contains classes not in y_true\n",
      "  warnings.warn(\"y_pred contains classes not in y_true\")\n"
     ]
    },
    {
     "name": "stdout",
     "output_type": "stream",
     "text": [
      "Azaiez balanced accuracy: 18.76927%\n",
      "Azaiez precision_recall_fscore_support: (array([0.70491803, 0.88764529, 0.        ]), array([0.0047221 , 0.37066331, 0.        ]), array([0.00938135, 0.52295207, 0.        ]), array([227653,  16689,      0]))\n"
     ]
    },
    {
     "name": "stderr",
     "output_type": "stream",
     "text": [
      "/Users/seanryan/Documents/GitHub/MORL-DVD-SVM/.venv311/lib/python3.11/site-packages/sklearn/metrics/_classification.py:1497: UndefinedMetricWarning: Recall is ill-defined and being set to 0.0 in labels with no true samples. Use `zero_division` parameter to control this behavior.\n",
      "  _warn_prf(average, modifier, f\"{metric.capitalize()} is\", len(result))\n"
     ]
    }
   ],
   "source": [
    "print(f\"Azaiez accuracy: {100* accuracy_score(y_true=df['FINAL_PATHOGENICITY'], y_pred=df['BVP_INTERNAL_STATE']):.5f}%\")\n",
    "print(f\"Azaiez balanced accuracy: {100*balanced_accuracy_score(y_true=df['FINAL_PATHOGENICITY'], y_pred=df['BVP_INTERNAL_STATE']):.5f}%\")\n",
    "print(f\"Azaiez precision_recall_fscore_support: {precision_recall_fscore_support(y_true=df['FINAL_PATHOGENICITY'], y_pred=df['BVP_INTERNAL_STATE'])}\")"
   ]
  },
  {
   "cell_type": "code",
   "execution_count": 14,
   "metadata": {},
   "outputs": [
    {
     "data": {
      "text/plain": [
       "Genomic Description GRCh37\n",
       "X:9431764:C>G          VUS\n",
       "X:9431784:A>T          VUS\n",
       "X:9431786:T>C          VUS\n",
       "X:9431932:G>GAAAAAC    VUS\n",
       "X:9431950:CAA>C        VUS\n",
       "                      ... \n",
       "22:38379790:A>C          P\n",
       "22:38379818:C>T        VUS\n",
       "22:38379877:T>A        VUS\n",
       "22:38379999:T>A        VUS\n",
       "22:38380306:A>C        VUS\n",
       "Name: BVP_INTERNAL_STATE, Length: 244342, dtype: object"
      ]
     },
     "execution_count": 14,
     "metadata": {},
     "output_type": "execute_result"
    }
   ],
   "source": [
    "df.BVP_INTERNAL_STATE"
   ]
  },
  {
   "cell_type": "code",
   "execution_count": null,
   "metadata": {},
   "outputs": [],
   "source": []
  }
 ],
 "metadata": {
  "kernelspec": {
   "display_name": ".venv311",
   "language": "python",
   "name": "python3"
  },
  "language_info": {
   "codemirror_mode": {
    "name": "ipython",
    "version": 3
   },
   "file_extension": ".py",
   "mimetype": "text/x-python",
   "name": "python",
   "nbconvert_exporter": "python",
   "pygments_lexer": "ipython3",
   "version": "3.11.6"
  }
 },
 "nbformat": 4,
 "nbformat_minor": 2
}
